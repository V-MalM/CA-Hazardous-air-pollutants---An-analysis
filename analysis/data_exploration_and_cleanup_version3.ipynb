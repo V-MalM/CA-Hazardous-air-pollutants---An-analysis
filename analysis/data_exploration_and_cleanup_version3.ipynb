{
 "metadata": {
  "language_info": {
   "codemirror_mode": {
    "name": "ipython",
    "version": 3
   },
   "file_extension": ".py",
   "mimetype": "text/x-python",
   "name": "python",
   "nbconvert_exporter": "python",
   "pygments_lexer": "ipython3",
   "version": "3.8.5"
  },
  "orig_nbformat": 4,
  "kernelspec": {
   "name": "python3",
   "display_name": "Python 3.8.5 64-bit ('base': conda)"
  },
  "interpreter": {
   "hash": "eb0a5deb85624cf39522bd9ea766efe3b585b85d5e69ded4a98e5c69611b9570"
  }
 },
 "nbformat": 4,
 "nbformat_minor": 2,
 "cells": [
  {
   "source": [],
   "cell_type": "code",
   "metadata": {},
   "execution_count": null,
   "outputs": []
  },
  {
   "source": [
    "![Earth](Images_Notebook/LA_bad_air_day.jpg)\n",
    "## Hello CA.. Are your efforts to be fog free paying off ?? Lets find out.. \n",
    "\n",
    "#### Background:\n",
    "Analysis of Hazardous Air Pollutants (HAP) data to identify the counties with the highest concentrations of HAPs, and get an insight on California’s performance in controlling HAP levels. At the conclusion of our analysis, we would have answered the following questions for each of the HAP groups individually.\n",
    "\n",
    "  * Which counties have the highest and the lowest HAP?\n",
    "  * Has the toxic air pollution been increasing or decreasing  for each county ?\n",
    "  * Do seasons have effect on hazardous air pollution?\n",
    "  * If so, how do HAP levels behave from season to season?\n",
    "  * What population is currently at risk ?\n",
    "  * What population might be at risk in the foreseeable future, based on any observable trends?\n",
    "\n",
    "#### Cleaning:\n",
    "Source dataset was from Kaggle.\n",
    "Total Rows in the Original Table : 8 million+\n",
    "Total Columns : 29\n",
    "After studying the data , we decided to do our Analysis to study the HAP for state of California .\n",
    "\n",
    "<table width=\"50%\" border=\"white\"><tr><td><img src=\"Images_Notebook/query1.jpeg\"></td></tr><table>\n",
    "\n",
    "Narrowed down the list of fields, checked for NaN,  dropped the rows that did not have required information needed for analysis.\n",
    "Size of final dataframe 578174.\n",
    "Added New Columns:\n",
    "  * \"first_max_value_in_NG\" to convert units_of_measure for daily readings from Micrograms to Nanograms.\n",
    "  * \"new_name\" to consolodate toxin_names\n",
    "  * \"month\",\"day\",\"year\" to run analysis without having to use date conversions \n",
    "\n",
    "#### Final Dataframe View\n",
    "<table width=\"80%\" border=\"white\"><tr><td><img src=\"Images_Notebook/query3.png\"></td></tr><table>\n",
    "\n"
   ],
   "cell_type": "markdown",
   "metadata": {}
  },
  {
   "cell_type": "code",
   "execution_count": 5,
   "metadata": {},
   "outputs": [],
   "source": [
    "import pandas as pd"
   ]
  },
  {
   "cell_type": "code",
   "execution_count": 6,
   "metadata": {},
   "outputs": [],
   "source": [
    "# epa_CA_Clean = pd.read_csv(\"Clean_with_nano_final.csv\")\n",
    "# epa_CA_Clean"
   ]
  },
  {
   "cell_type": "code",
   "execution_count": 7,
   "metadata": {},
   "outputs": [],
   "source": [
    "# # Checkiong for nulls\n",
    "# nan_in_df = epa_CA_Clean.isnull().values.any()\n",
    "  \n",
    "# # Print the dataframe\n",
    "# print(nan_in_df)"
   ]
  },
  {
   "cell_type": "code",
   "execution_count": 10,
   "metadata": {},
   "outputs": [],
   "source": [
    "# epa_CA_dates = pd.read_csv(\"Clean_with_nano_final.csv\")\n",
    "# ## Adding columns month, day, year\n",
    "# epa_CA_dates['date_local'] = pd.to_datetime(epa_CA_dates['date_local'])\n",
    "# epa_CA_dates['month'] = pd. DatetimeIndex(epa_CA_dates['date_local']).month\n",
    "# epa_CA_dates['day'] =  pd. DatetimeIndex(epa_CA_dates['date_local']).day\n",
    "# epa_CA_dates['year'] = pd. DatetimeIndex(epa_CA_dates['date_local']).year\n",
    "# epa_CA_dates.sort_values(by=\"date_local\")\n",
    "\n",
    "# epa_CA_dates.to_csv(\"epa_hap_ca_with_dates_split_final250AM.csv\",index=False)"
   ]
  },
  {
   "cell_type": "code",
   "execution_count": 12,
   "metadata": {},
   "outputs": [
    {
     "output_type": "execute_result",
     "data": {
      "text/plain": [
       "         latitude   longitude       parameter_name sample_duration  \\\n",
       "0       40.539990 -121.576460      Nickel PM2.5 LC         24 HOUR   \n",
       "1       34.733889 -120.008349        Lead PM2.5 LC         24 HOUR   \n",
       "2       37.950741 -121.268523   Chromium (TSP) STP         24 HOUR   \n",
       "3       37.765946 -122.399044  Tetrachloroethylene         24 HOUR   \n",
       "4       34.069570 -116.388930      Nickel PM2.5 LC         24 HOUR   \n",
       "...           ...         ...                  ...             ...   \n",
       "872456  36.781333 -119.773190    Chromium PM2.5 LC         24 HOUR   \n",
       "872457  41.711825 -121.509993    Chromium PM2.5 LC         24 HOUR   \n",
       "872458  38.102507 -122.237976        Lead PM2.5 LC         24 HOUR   \n",
       "872459  36.781333 -119.773190      Nickel PM2.5 LC         24 HOUR   \n",
       "872460  36.781333 -119.773190              Benzene         24 HOUR   \n",
       "\n",
       "        date_local               units_of_measure  arithmetic_mean  \\\n",
       "0       2001-08-02    Micrograms/cubic meter (LC)          0.00013   \n",
       "1       2015-08-04    Micrograms/cubic meter (LC)          0.00000   \n",
       "2       1992-10-03  Micrograms/cubic meter (25 C)          0.00300   \n",
       "3       1998-09-14       Parts per billion Carbon          1.90000   \n",
       "4       2006-12-04    Micrograms/cubic meter (LC)          0.00000   \n",
       "...            ...                            ...              ...   \n",
       "872456  2010-04-20    Micrograms/cubic meter (LC)          0.00000   \n",
       "872457  2010-03-03    Micrograms/cubic meter (LC)          0.00000   \n",
       "872458  2014-05-11    Micrograms/cubic meter (LC)          0.00000   \n",
       "872459  2008-05-18    Micrograms/cubic meter (LC)          0.00100   \n",
       "872460  2006-03-12       Parts per billion Carbon          2.52000   \n",
       "\n",
       "        first_max_value  first_max_hour  state_name     county_name  \\\n",
       "0               0.00013               0  California          Shasta   \n",
       "1               0.00000               0  California   Santa Barbara   \n",
       "2               0.00300               0  California     San Joaquin   \n",
       "3               1.90000               0  California   San Francisco   \n",
       "4               0.00000               0  California  San Bernardino   \n",
       "...                 ...             ...         ...             ...   \n",
       "872456          0.00000               0  California          Fresno   \n",
       "872457          0.00000               0  California        Siskiyou   \n",
       "872458          0.00000               0  California          Solano   \n",
       "872459          0.00100               0  California          Fresno   \n",
       "872460          2.52000               0  California          Fresno   \n",
       "\n",
       "                          city_name date_of_last_change  \\\n",
       "0                     Not in a city           7/22/2015   \n",
       "1                     Not in a city           8/30/2016   \n",
       "2                          Stockton           6/11/2013   \n",
       "3                     San Francisco           6/11/2013   \n",
       "4                     Not in a city          11/17/2015   \n",
       "...                             ...                 ...   \n",
       "872456                       Fresno           7/28/2015   \n",
       "872457  Lava Beds National Monument           7/28/2015   \n",
       "872458                      Vallejo            4/6/2015   \n",
       "872459                       Fresno           7/22/2015   \n",
       "872460                       Fresno           6/11/2013   \n",
       "\n",
       "        first_max_value_in_NG  month  day  year  \n",
       "0                        0.13      8    2  2001  \n",
       "1                        0.00      8    4  2015  \n",
       "2                        3.00     10    3  1992  \n",
       "3                        1.90      9   14  1998  \n",
       "4                        0.00     12    4  2006  \n",
       "...                       ...    ...  ...   ...  \n",
       "872456                   0.00      4   20  2010  \n",
       "872457                   0.00      3    3  2010  \n",
       "872458                   0.00      5   11  2014  \n",
       "872459                   1.00      5   18  2008  \n",
       "872460                   2.52      3   12  2006  \n",
       "\n",
       "[872461 rows x 17 columns]"
      ],
      "text/html": "<div>\n<style scoped>\n    .dataframe tbody tr th:only-of-type {\n        vertical-align: middle;\n    }\n\n    .dataframe tbody tr th {\n        vertical-align: top;\n    }\n\n    .dataframe thead th {\n        text-align: right;\n    }\n</style>\n<table border=\"1\" class=\"dataframe\">\n  <thead>\n    <tr style=\"text-align: right;\">\n      <th></th>\n      <th>latitude</th>\n      <th>longitude</th>\n      <th>parameter_name</th>\n      <th>sample_duration</th>\n      <th>date_local</th>\n      <th>units_of_measure</th>\n      <th>arithmetic_mean</th>\n      <th>first_max_value</th>\n      <th>first_max_hour</th>\n      <th>state_name</th>\n      <th>county_name</th>\n      <th>city_name</th>\n      <th>date_of_last_change</th>\n      <th>first_max_value_in_NG</th>\n      <th>month</th>\n      <th>day</th>\n      <th>year</th>\n    </tr>\n  </thead>\n  <tbody>\n    <tr>\n      <th>0</th>\n      <td>40.539990</td>\n      <td>-121.576460</td>\n      <td>Nickel PM2.5 LC</td>\n      <td>24 HOUR</td>\n      <td>2001-08-02</td>\n      <td>Micrograms/cubic meter (LC)</td>\n      <td>0.00013</td>\n      <td>0.00013</td>\n      <td>0</td>\n      <td>California</td>\n      <td>Shasta</td>\n      <td>Not in a city</td>\n      <td>7/22/2015</td>\n      <td>0.13</td>\n      <td>8</td>\n      <td>2</td>\n      <td>2001</td>\n    </tr>\n    <tr>\n      <th>1</th>\n      <td>34.733889</td>\n      <td>-120.008349</td>\n      <td>Lead PM2.5 LC</td>\n      <td>24 HOUR</td>\n      <td>2015-08-04</td>\n      <td>Micrograms/cubic meter (LC)</td>\n      <td>0.00000</td>\n      <td>0.00000</td>\n      <td>0</td>\n      <td>California</td>\n      <td>Santa Barbara</td>\n      <td>Not in a city</td>\n      <td>8/30/2016</td>\n      <td>0.00</td>\n      <td>8</td>\n      <td>4</td>\n      <td>2015</td>\n    </tr>\n    <tr>\n      <th>2</th>\n      <td>37.950741</td>\n      <td>-121.268523</td>\n      <td>Chromium (TSP) STP</td>\n      <td>24 HOUR</td>\n      <td>1992-10-03</td>\n      <td>Micrograms/cubic meter (25 C)</td>\n      <td>0.00300</td>\n      <td>0.00300</td>\n      <td>0</td>\n      <td>California</td>\n      <td>San Joaquin</td>\n      <td>Stockton</td>\n      <td>6/11/2013</td>\n      <td>3.00</td>\n      <td>10</td>\n      <td>3</td>\n      <td>1992</td>\n    </tr>\n    <tr>\n      <th>3</th>\n      <td>37.765946</td>\n      <td>-122.399044</td>\n      <td>Tetrachloroethylene</td>\n      <td>24 HOUR</td>\n      <td>1998-09-14</td>\n      <td>Parts per billion Carbon</td>\n      <td>1.90000</td>\n      <td>1.90000</td>\n      <td>0</td>\n      <td>California</td>\n      <td>San Francisco</td>\n      <td>San Francisco</td>\n      <td>6/11/2013</td>\n      <td>1.90</td>\n      <td>9</td>\n      <td>14</td>\n      <td>1998</td>\n    </tr>\n    <tr>\n      <th>4</th>\n      <td>34.069570</td>\n      <td>-116.388930</td>\n      <td>Nickel PM2.5 LC</td>\n      <td>24 HOUR</td>\n      <td>2006-12-04</td>\n      <td>Micrograms/cubic meter (LC)</td>\n      <td>0.00000</td>\n      <td>0.00000</td>\n      <td>0</td>\n      <td>California</td>\n      <td>San Bernardino</td>\n      <td>Not in a city</td>\n      <td>11/17/2015</td>\n      <td>0.00</td>\n      <td>12</td>\n      <td>4</td>\n      <td>2006</td>\n    </tr>\n    <tr>\n      <th>...</th>\n      <td>...</td>\n      <td>...</td>\n      <td>...</td>\n      <td>...</td>\n      <td>...</td>\n      <td>...</td>\n      <td>...</td>\n      <td>...</td>\n      <td>...</td>\n      <td>...</td>\n      <td>...</td>\n      <td>...</td>\n      <td>...</td>\n      <td>...</td>\n      <td>...</td>\n      <td>...</td>\n      <td>...</td>\n    </tr>\n    <tr>\n      <th>872456</th>\n      <td>36.781333</td>\n      <td>-119.773190</td>\n      <td>Chromium PM2.5 LC</td>\n      <td>24 HOUR</td>\n      <td>2010-04-20</td>\n      <td>Micrograms/cubic meter (LC)</td>\n      <td>0.00000</td>\n      <td>0.00000</td>\n      <td>0</td>\n      <td>California</td>\n      <td>Fresno</td>\n      <td>Fresno</td>\n      <td>7/28/2015</td>\n      <td>0.00</td>\n      <td>4</td>\n      <td>20</td>\n      <td>2010</td>\n    </tr>\n    <tr>\n      <th>872457</th>\n      <td>41.711825</td>\n      <td>-121.509993</td>\n      <td>Chromium PM2.5 LC</td>\n      <td>24 HOUR</td>\n      <td>2010-03-03</td>\n      <td>Micrograms/cubic meter (LC)</td>\n      <td>0.00000</td>\n      <td>0.00000</td>\n      <td>0</td>\n      <td>California</td>\n      <td>Siskiyou</td>\n      <td>Lava Beds National Monument</td>\n      <td>7/28/2015</td>\n      <td>0.00</td>\n      <td>3</td>\n      <td>3</td>\n      <td>2010</td>\n    </tr>\n    <tr>\n      <th>872458</th>\n      <td>38.102507</td>\n      <td>-122.237976</td>\n      <td>Lead PM2.5 LC</td>\n      <td>24 HOUR</td>\n      <td>2014-05-11</td>\n      <td>Micrograms/cubic meter (LC)</td>\n      <td>0.00000</td>\n      <td>0.00000</td>\n      <td>0</td>\n      <td>California</td>\n      <td>Solano</td>\n      <td>Vallejo</td>\n      <td>4/6/2015</td>\n      <td>0.00</td>\n      <td>5</td>\n      <td>11</td>\n      <td>2014</td>\n    </tr>\n    <tr>\n      <th>872459</th>\n      <td>36.781333</td>\n      <td>-119.773190</td>\n      <td>Nickel PM2.5 LC</td>\n      <td>24 HOUR</td>\n      <td>2008-05-18</td>\n      <td>Micrograms/cubic meter (LC)</td>\n      <td>0.00100</td>\n      <td>0.00100</td>\n      <td>0</td>\n      <td>California</td>\n      <td>Fresno</td>\n      <td>Fresno</td>\n      <td>7/22/2015</td>\n      <td>1.00</td>\n      <td>5</td>\n      <td>18</td>\n      <td>2008</td>\n    </tr>\n    <tr>\n      <th>872460</th>\n      <td>36.781333</td>\n      <td>-119.773190</td>\n      <td>Benzene</td>\n      <td>24 HOUR</td>\n      <td>2006-03-12</td>\n      <td>Parts per billion Carbon</td>\n      <td>2.52000</td>\n      <td>2.52000</td>\n      <td>0</td>\n      <td>California</td>\n      <td>Fresno</td>\n      <td>Fresno</td>\n      <td>6/11/2013</td>\n      <td>2.52</td>\n      <td>3</td>\n      <td>12</td>\n      <td>2006</td>\n    </tr>\n  </tbody>\n</table>\n<p>872461 rows × 17 columns</p>\n</div>"
     },
     "metadata": {},
     "execution_count": 12
    }
   ],
   "source": [
    "epa_CA = pd.read_csv(\"epa_hap_ca_with_dates_split_final250AM.csv\")\n",
    "epa_CA"
   ]
  },
  {
   "cell_type": "code",
   "execution_count": 17,
   "metadata": {},
   "outputs": [
    {
     "output_type": "execute_result",
     "data": {
      "text/plain": [
       "min          0.000000\n",
       "max       9051.100000\n",
       "mean         0.761300\n",
       "median       0.002000\n",
       "std         10.176049\n",
       "Name: first_max_value, dtype: float64"
      ]
     },
     "metadata": {},
     "execution_count": 17
    }
   ],
   "source": [
    "epa_CA['first_max_value'].agg(['min', 'max', 'mean','median','std'])"
   ]
  },
  {
   "cell_type": "code",
   "execution_count": 18,
   "metadata": {},
   "outputs": [
    {
     "output_type": "execute_result",
     "data": {
      "text/plain": [
       "         latitude   longitude      parameter_name sample_duration  date_local  \\\n",
       "0       40.539990 -121.576460     Nickel PM2.5 LC         24 HOUR  2001-08-02   \n",
       "1       34.733889 -120.008349       Lead PM2.5 LC         24 HOUR  2015-08-04   \n",
       "2       37.950741 -121.268523  Chromium (TSP) STP         24 HOUR  1992-10-03   \n",
       "4       34.069570 -116.388930     Nickel PM2.5 LC         24 HOUR  2006-12-04   \n",
       "6       37.713250 -119.706200     Nickel PM2.5 LC         24 HOUR  2009-11-30   \n",
       "...           ...         ...                 ...             ...         ...   \n",
       "872455  41.561111 -124.082778    Arsenic PM2.5 LC         24 HOUR  1990-11-07   \n",
       "872456  36.781333 -119.773190   Chromium PM2.5 LC         24 HOUR  2010-04-20   \n",
       "872457  41.711825 -121.509993   Chromium PM2.5 LC         24 HOUR  2010-03-03   \n",
       "872458  38.102507 -122.237976       Lead PM2.5 LC         24 HOUR  2014-05-11   \n",
       "872459  36.781333 -119.773190     Nickel PM2.5 LC         24 HOUR  2008-05-18   \n",
       "\n",
       "                     units_of_measure  arithmetic_mean  first_max_value  \\\n",
       "0         Micrograms/cubic meter (LC)          0.00013          0.00013   \n",
       "1         Micrograms/cubic meter (LC)          0.00000          0.00000   \n",
       "2       Micrograms/cubic meter (25 C)          0.00300          0.00300   \n",
       "4         Micrograms/cubic meter (LC)          0.00000          0.00000   \n",
       "6         Micrograms/cubic meter (LC)          0.00000          0.00000   \n",
       "...                               ...              ...              ...   \n",
       "872455    Micrograms/cubic meter (LC)          0.00022          0.00022   \n",
       "872456    Micrograms/cubic meter (LC)          0.00000          0.00000   \n",
       "872457    Micrograms/cubic meter (LC)          0.00000          0.00000   \n",
       "872458    Micrograms/cubic meter (LC)          0.00000          0.00000   \n",
       "872459    Micrograms/cubic meter (LC)          0.00100          0.00100   \n",
       "\n",
       "        first_max_hour  state_name     county_name  \\\n",
       "0                    0  California          Shasta   \n",
       "1                    0  California   Santa Barbara   \n",
       "2                    0  California     San Joaquin   \n",
       "4                    0  California  San Bernardino   \n",
       "6                    0  California        Mariposa   \n",
       "...                ...         ...             ...   \n",
       "872455               0  California       Del Norte   \n",
       "872456               0  California          Fresno   \n",
       "872457               0  California        Siskiyou   \n",
       "872458               0  California          Solano   \n",
       "872459               0  California          Fresno   \n",
       "\n",
       "                          city_name date_of_last_change  \\\n",
       "0                     Not in a city           7/22/2015   \n",
       "1                     Not in a city           8/30/2016   \n",
       "2                          Stockton           6/11/2013   \n",
       "4                     Not in a city          11/17/2015   \n",
       "6                     Not in a city           8/11/2015   \n",
       "...                             ...                 ...   \n",
       "872455        Redwood National Park           7/22/2015   \n",
       "872456                       Fresno           7/28/2015   \n",
       "872457  Lava Beds National Monument           7/28/2015   \n",
       "872458                      Vallejo            4/6/2015   \n",
       "872459                       Fresno           7/22/2015   \n",
       "\n",
       "        first_max_value_in_NG  month  day  year  \n",
       "0                        0.13      8    2  2001  \n",
       "1                        0.00      8    4  2015  \n",
       "2                        3.00     10    3  1992  \n",
       "4                        0.00     12    4  2006  \n",
       "6                        0.00     11   30  2009  \n",
       "...                       ...    ...  ...   ...  \n",
       "872455                   0.22     11    7  1990  \n",
       "872456                   0.00      4   20  2010  \n",
       "872457                   0.00      3    3  2010  \n",
       "872458                   0.00      5   11  2014  \n",
       "872459                   1.00      5   18  2008  \n",
       "\n",
       "[479734 rows x 17 columns]"
      ],
      "text/html": "<div>\n<style scoped>\n    .dataframe tbody tr th:only-of-type {\n        vertical-align: middle;\n    }\n\n    .dataframe tbody tr th {\n        vertical-align: top;\n    }\n\n    .dataframe thead th {\n        text-align: right;\n    }\n</style>\n<table border=\"1\" class=\"dataframe\">\n  <thead>\n    <tr style=\"text-align: right;\">\n      <th></th>\n      <th>latitude</th>\n      <th>longitude</th>\n      <th>parameter_name</th>\n      <th>sample_duration</th>\n      <th>date_local</th>\n      <th>units_of_measure</th>\n      <th>arithmetic_mean</th>\n      <th>first_max_value</th>\n      <th>first_max_hour</th>\n      <th>state_name</th>\n      <th>county_name</th>\n      <th>city_name</th>\n      <th>date_of_last_change</th>\n      <th>first_max_value_in_NG</th>\n      <th>month</th>\n      <th>day</th>\n      <th>year</th>\n    </tr>\n  </thead>\n  <tbody>\n    <tr>\n      <th>0</th>\n      <td>40.539990</td>\n      <td>-121.576460</td>\n      <td>Nickel PM2.5 LC</td>\n      <td>24 HOUR</td>\n      <td>2001-08-02</td>\n      <td>Micrograms/cubic meter (LC)</td>\n      <td>0.00013</td>\n      <td>0.00013</td>\n      <td>0</td>\n      <td>California</td>\n      <td>Shasta</td>\n      <td>Not in a city</td>\n      <td>7/22/2015</td>\n      <td>0.13</td>\n      <td>8</td>\n      <td>2</td>\n      <td>2001</td>\n    </tr>\n    <tr>\n      <th>1</th>\n      <td>34.733889</td>\n      <td>-120.008349</td>\n      <td>Lead PM2.5 LC</td>\n      <td>24 HOUR</td>\n      <td>2015-08-04</td>\n      <td>Micrograms/cubic meter (LC)</td>\n      <td>0.00000</td>\n      <td>0.00000</td>\n      <td>0</td>\n      <td>California</td>\n      <td>Santa Barbara</td>\n      <td>Not in a city</td>\n      <td>8/30/2016</td>\n      <td>0.00</td>\n      <td>8</td>\n      <td>4</td>\n      <td>2015</td>\n    </tr>\n    <tr>\n      <th>2</th>\n      <td>37.950741</td>\n      <td>-121.268523</td>\n      <td>Chromium (TSP) STP</td>\n      <td>24 HOUR</td>\n      <td>1992-10-03</td>\n      <td>Micrograms/cubic meter (25 C)</td>\n      <td>0.00300</td>\n      <td>0.00300</td>\n      <td>0</td>\n      <td>California</td>\n      <td>San Joaquin</td>\n      <td>Stockton</td>\n      <td>6/11/2013</td>\n      <td>3.00</td>\n      <td>10</td>\n      <td>3</td>\n      <td>1992</td>\n    </tr>\n    <tr>\n      <th>4</th>\n      <td>34.069570</td>\n      <td>-116.388930</td>\n      <td>Nickel PM2.5 LC</td>\n      <td>24 HOUR</td>\n      <td>2006-12-04</td>\n      <td>Micrograms/cubic meter (LC)</td>\n      <td>0.00000</td>\n      <td>0.00000</td>\n      <td>0</td>\n      <td>California</td>\n      <td>San Bernardino</td>\n      <td>Not in a city</td>\n      <td>11/17/2015</td>\n      <td>0.00</td>\n      <td>12</td>\n      <td>4</td>\n      <td>2006</td>\n    </tr>\n    <tr>\n      <th>6</th>\n      <td>37.713250</td>\n      <td>-119.706200</td>\n      <td>Nickel PM2.5 LC</td>\n      <td>24 HOUR</td>\n      <td>2009-11-30</td>\n      <td>Micrograms/cubic meter (LC)</td>\n      <td>0.00000</td>\n      <td>0.00000</td>\n      <td>0</td>\n      <td>California</td>\n      <td>Mariposa</td>\n      <td>Not in a city</td>\n      <td>8/11/2015</td>\n      <td>0.00</td>\n      <td>11</td>\n      <td>30</td>\n      <td>2009</td>\n    </tr>\n    <tr>\n      <th>...</th>\n      <td>...</td>\n      <td>...</td>\n      <td>...</td>\n      <td>...</td>\n      <td>...</td>\n      <td>...</td>\n      <td>...</td>\n      <td>...</td>\n      <td>...</td>\n      <td>...</td>\n      <td>...</td>\n      <td>...</td>\n      <td>...</td>\n      <td>...</td>\n      <td>...</td>\n      <td>...</td>\n      <td>...</td>\n    </tr>\n    <tr>\n      <th>872455</th>\n      <td>41.561111</td>\n      <td>-124.082778</td>\n      <td>Arsenic PM2.5 LC</td>\n      <td>24 HOUR</td>\n      <td>1990-11-07</td>\n      <td>Micrograms/cubic meter (LC)</td>\n      <td>0.00022</td>\n      <td>0.00022</td>\n      <td>0</td>\n      <td>California</td>\n      <td>Del Norte</td>\n      <td>Redwood National Park</td>\n      <td>7/22/2015</td>\n      <td>0.22</td>\n      <td>11</td>\n      <td>7</td>\n      <td>1990</td>\n    </tr>\n    <tr>\n      <th>872456</th>\n      <td>36.781333</td>\n      <td>-119.773190</td>\n      <td>Chromium PM2.5 LC</td>\n      <td>24 HOUR</td>\n      <td>2010-04-20</td>\n      <td>Micrograms/cubic meter (LC)</td>\n      <td>0.00000</td>\n      <td>0.00000</td>\n      <td>0</td>\n      <td>California</td>\n      <td>Fresno</td>\n      <td>Fresno</td>\n      <td>7/28/2015</td>\n      <td>0.00</td>\n      <td>4</td>\n      <td>20</td>\n      <td>2010</td>\n    </tr>\n    <tr>\n      <th>872457</th>\n      <td>41.711825</td>\n      <td>-121.509993</td>\n      <td>Chromium PM2.5 LC</td>\n      <td>24 HOUR</td>\n      <td>2010-03-03</td>\n      <td>Micrograms/cubic meter (LC)</td>\n      <td>0.00000</td>\n      <td>0.00000</td>\n      <td>0</td>\n      <td>California</td>\n      <td>Siskiyou</td>\n      <td>Lava Beds National Monument</td>\n      <td>7/28/2015</td>\n      <td>0.00</td>\n      <td>3</td>\n      <td>3</td>\n      <td>2010</td>\n    </tr>\n    <tr>\n      <th>872458</th>\n      <td>38.102507</td>\n      <td>-122.237976</td>\n      <td>Lead PM2.5 LC</td>\n      <td>24 HOUR</td>\n      <td>2014-05-11</td>\n      <td>Micrograms/cubic meter (LC)</td>\n      <td>0.00000</td>\n      <td>0.00000</td>\n      <td>0</td>\n      <td>California</td>\n      <td>Solano</td>\n      <td>Vallejo</td>\n      <td>4/6/2015</td>\n      <td>0.00</td>\n      <td>5</td>\n      <td>11</td>\n      <td>2014</td>\n    </tr>\n    <tr>\n      <th>872459</th>\n      <td>36.781333</td>\n      <td>-119.773190</td>\n      <td>Nickel PM2.5 LC</td>\n      <td>24 HOUR</td>\n      <td>2008-05-18</td>\n      <td>Micrograms/cubic meter (LC)</td>\n      <td>0.00100</td>\n      <td>0.00100</td>\n      <td>0</td>\n      <td>California</td>\n      <td>Fresno</td>\n      <td>Fresno</td>\n      <td>7/22/2015</td>\n      <td>1.00</td>\n      <td>5</td>\n      <td>18</td>\n      <td>2008</td>\n    </tr>\n  </tbody>\n</table>\n<p>479734 rows × 17 columns</p>\n</div>"
     },
     "metadata": {},
     "execution_count": 18
    }
   ],
   "source": [
    "epa_CA_Non_Carbon = epa_CA.loc[(epa_CA[\"units_of_measure\"] != \"Parts per billion Carbon\")]\n",
    "epa_CA_Non_Carbon"
   ]
  },
  {
   "cell_type": "code",
   "execution_count": null,
   "metadata": {},
   "outputs": [],
   "source": []
  }
 ]
}